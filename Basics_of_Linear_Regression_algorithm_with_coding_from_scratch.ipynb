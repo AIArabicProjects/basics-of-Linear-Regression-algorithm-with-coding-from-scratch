{
  "nbformat": 4,
  "nbformat_minor": 0,
  "metadata": {
    "colab": {
      "provenance": []
    },
    "kernelspec": {
      "name": "python3",
      "display_name": "Python 3"
    },
    "language_info": {
      "name": "python"
    }
  },
  "cells": [
    {
      "cell_type": "code",
      "execution_count": null,
      "metadata": {
        "id": "LgUTPNiqsEeB"
      },
      "outputs": [],
      "source": [
        "import numpy as np\n",
        "import pandas as pd\n",
        "import matplotlib.pyplot as plt\n",
        "import copy\n",
        "import math\n",
        "%matplotlib inline"
      ]
    },
    {
      "cell_type": "code",
      "source": [
        "data = pd.read_csv('/content/Salary_Data.csv')\n",
        "x_train = data.iloc[:,0] # قراءة العمود الأول\n",
        "y_train = data.iloc[:,1] # قراءة العنود الثاني\n",
        "print(len(y_train)) # عدد عينات التدريب\n",
        "data.head() #إظهار أول خمسة أسطر من البيانات "
      ],
      "metadata": {
        "colab": {
          "base_uri": "https://localhost:8080/",
          "height": 223
        },
        "id": "baTGcgEMsInr",
        "outputId": "f905f0d0-9246-426f-9cd8-eb4288cfa3d7"
      },
      "execution_count": null,
      "outputs": [
        {
          "output_type": "stream",
          "name": "stdout",
          "text": [
            "30\n"
          ]
        },
        {
          "output_type": "execute_result",
          "data": {
            "text/plain": [
              "   YearsExperience   Salary\n",
              "0              1.1  39343.0\n",
              "1              1.3  46205.0\n",
              "2              1.5  37731.0\n",
              "3              2.0  43525.0\n",
              "4              2.2  39891.0"
            ],
            "text/html": [
              "\n",
              "  <div id=\"df-2cb9646d-1d22-479d-bd6e-16931cd13f84\">\n",
              "    <div class=\"colab-df-container\">\n",
              "      <div>\n",
              "<style scoped>\n",
              "    .dataframe tbody tr th:only-of-type {\n",
              "        vertical-align: middle;\n",
              "    }\n",
              "\n",
              "    .dataframe tbody tr th {\n",
              "        vertical-align: top;\n",
              "    }\n",
              "\n",
              "    .dataframe thead th {\n",
              "        text-align: right;\n",
              "    }\n",
              "</style>\n",
              "<table border=\"1\" class=\"dataframe\">\n",
              "  <thead>\n",
              "    <tr style=\"text-align: right;\">\n",
              "      <th></th>\n",
              "      <th>YearsExperience</th>\n",
              "      <th>Salary</th>\n",
              "    </tr>\n",
              "  </thead>\n",
              "  <tbody>\n",
              "    <tr>\n",
              "      <th>0</th>\n",
              "      <td>1.1</td>\n",
              "      <td>39343.0</td>\n",
              "    </tr>\n",
              "    <tr>\n",
              "      <th>1</th>\n",
              "      <td>1.3</td>\n",
              "      <td>46205.0</td>\n",
              "    </tr>\n",
              "    <tr>\n",
              "      <th>2</th>\n",
              "      <td>1.5</td>\n",
              "      <td>37731.0</td>\n",
              "    </tr>\n",
              "    <tr>\n",
              "      <th>3</th>\n",
              "      <td>2.0</td>\n",
              "      <td>43525.0</td>\n",
              "    </tr>\n",
              "    <tr>\n",
              "      <th>4</th>\n",
              "      <td>2.2</td>\n",
              "      <td>39891.0</td>\n",
              "    </tr>\n",
              "  </tbody>\n",
              "</table>\n",
              "</div>\n",
              "      <button class=\"colab-df-convert\" onclick=\"convertToInteractive('df-2cb9646d-1d22-479d-bd6e-16931cd13f84')\"\n",
              "              title=\"Convert this dataframe to an interactive table.\"\n",
              "              style=\"display:none;\">\n",
              "        \n",
              "  <svg xmlns=\"http://www.w3.org/2000/svg\" height=\"24px\"viewBox=\"0 0 24 24\"\n",
              "       width=\"24px\">\n",
              "    <path d=\"M0 0h24v24H0V0z\" fill=\"none\"/>\n",
              "    <path d=\"M18.56 5.44l.94 2.06.94-2.06 2.06-.94-2.06-.94-.94-2.06-.94 2.06-2.06.94zm-11 1L8.5 8.5l.94-2.06 2.06-.94-2.06-.94L8.5 2.5l-.94 2.06-2.06.94zm10 10l.94 2.06.94-2.06 2.06-.94-2.06-.94-.94-2.06-.94 2.06-2.06.94z\"/><path d=\"M17.41 7.96l-1.37-1.37c-.4-.4-.92-.59-1.43-.59-.52 0-1.04.2-1.43.59L10.3 9.45l-7.72 7.72c-.78.78-.78 2.05 0 2.83L4 21.41c.39.39.9.59 1.41.59.51 0 1.02-.2 1.41-.59l7.78-7.78 2.81-2.81c.8-.78.8-2.07 0-2.86zM5.41 20L4 18.59l7.72-7.72 1.47 1.35L5.41 20z\"/>\n",
              "  </svg>\n",
              "      </button>\n",
              "      \n",
              "  <style>\n",
              "    .colab-df-container {\n",
              "      display:flex;\n",
              "      flex-wrap:wrap;\n",
              "      gap: 12px;\n",
              "    }\n",
              "\n",
              "    .colab-df-convert {\n",
              "      background-color: #E8F0FE;\n",
              "      border: none;\n",
              "      border-radius: 50%;\n",
              "      cursor: pointer;\n",
              "      display: none;\n",
              "      fill: #1967D2;\n",
              "      height: 32px;\n",
              "      padding: 0 0 0 0;\n",
              "      width: 32px;\n",
              "    }\n",
              "\n",
              "    .colab-df-convert:hover {\n",
              "      background-color: #E2EBFA;\n",
              "      box-shadow: 0px 1px 2px rgba(60, 64, 67, 0.3), 0px 1px 3px 1px rgba(60, 64, 67, 0.15);\n",
              "      fill: #174EA6;\n",
              "    }\n",
              "\n",
              "    [theme=dark] .colab-df-convert {\n",
              "      background-color: #3B4455;\n",
              "      fill: #D2E3FC;\n",
              "    }\n",
              "\n",
              "    [theme=dark] .colab-df-convert:hover {\n",
              "      background-color: #434B5C;\n",
              "      box-shadow: 0px 1px 3px 1px rgba(0, 0, 0, 0.15);\n",
              "      filter: drop-shadow(0px 1px 2px rgba(0, 0, 0, 0.3));\n",
              "      fill: #FFFFFF;\n",
              "    }\n",
              "  </style>\n",
              "\n",
              "      <script>\n",
              "        const buttonEl =\n",
              "          document.querySelector('#df-2cb9646d-1d22-479d-bd6e-16931cd13f84 button.colab-df-convert');\n",
              "        buttonEl.style.display =\n",
              "          google.colab.kernel.accessAllowed ? 'block' : 'none';\n",
              "\n",
              "        async function convertToInteractive(key) {\n",
              "          const element = document.querySelector('#df-2cb9646d-1d22-479d-bd6e-16931cd13f84');\n",
              "          const dataTable =\n",
              "            await google.colab.kernel.invokeFunction('convertToInteractive',\n",
              "                                                     [key], {});\n",
              "          if (!dataTable) return;\n",
              "\n",
              "          const docLinkHtml = 'Like what you see? Visit the ' +\n",
              "            '<a target=\"_blank\" href=https://colab.research.google.com/notebooks/data_table.ipynb>data table notebook</a>'\n",
              "            + ' to learn more about interactive tables.';\n",
              "          element.innerHTML = '';\n",
              "          dataTable['output_type'] = 'display_data';\n",
              "          await google.colab.output.renderOutput(dataTable, element);\n",
              "          const docLink = document.createElement('div');\n",
              "          docLink.innerHTML = docLinkHtml;\n",
              "          element.appendChild(docLink);\n",
              "        }\n",
              "      </script>\n",
              "    </div>\n",
              "  </div>\n",
              "  "
            ]
          },
          "metadata": {},
          "execution_count": 2
        }
      ]
    },
    {
      "cell_type": "code",
      "source": [
        "#رسم مخطط انتشار للبيانات \n",
        "plt.scatter(x_train, y_train, marker='x', c='r') \n",
        "\n",
        "# تحدبد العنوان\n",
        "plt.title(\"years of experience vs salary\")\n",
        "# تحديد عنوان للمحور العمودي\n",
        "plt.ylabel('salary')\n",
        "# تحديد عنوان للمحور الأفقي\n",
        "plt.xlabel('years of experience')\n",
        "plt.show()"
      ],
      "metadata": {
        "colab": {
          "base_uri": "https://localhost:8080/",
          "height": 295
        },
        "id": "XvLO-oMOtEit",
        "outputId": "c8cf12bd-8095-4200-f91a-2ada63c35b28"
      },
      "execution_count": null,
      "outputs": [
        {
          "output_type": "display_data",
          "data": {
            "text/plain": [
              "<Figure size 432x288 with 1 Axes>"
            ],
            "image/png": "[encoded data removed]"
          },
          "metadata": {
            "needs_background": "light"
          }
        }
      ]
    },
    {
      "cell_type": "markdown",
      "source": [
        "## Cost Function"
      ],
      "metadata": {
        "id": "oFHtkr0t6j6E"
      }
    },
    {
      "cell_type": "code",
      "source": [
        "def cost_func(x, y, theta_1, theta_0): \n",
        "    # عدد عينات التدريب\n",
        "    m = x.shape[0] \n",
        "    #متغير يعبر عن قيمة التكلفة النهائية(يستخدم لاحقاً)\n",
        "    final_cost = 0\n",
        "    # متغير لمتابعة قيمة مجموع التكلفة لكل عينة\n",
        "    cost_sum = 0\n",
        "    # حلقة دورانية على كل العينات\n",
        "    for i in range(m):      \n",
        "        # حساب القيمة المتوقعة لكل عينة\n",
        "        h = theta_1 * x[i] + theta_0 \n",
        "        # حساب التكلفة لكل عينة\n",
        "        cost = (h - y[i]) ** 2 \n",
        "        # إضافة التكلفة المحسوبة إلى مجموع العينات السابقة\n",
        "        cost_sum = cost_sum + cost \n",
        "    # حساب قيمة التكلفة النهائية\n",
        "    final_cost = (1 / (2 * m)) * cost_sum \n",
        "    return final_cost"
      ],
      "metadata": {
        "id": "Of5CtK9htHqf"
      },
      "execution_count": null,
      "outputs": []
    },
    {
      "cell_type": "markdown",
      "source": [
        "## Gradient Descent"
      ],
      "metadata": {
        "id": "gu8uhXte6ozg"
      }
    },
    {
      "cell_type": "code",
      "source": [
        "def gradient(x, y, theta_1, theta_0): \n",
        "    # عدد عينات التدريب\n",
        "    m = x.shape[0]\n",
        "    # (لحساب الانحدار التدريجي النهائي (متغيرات نستخدمها لاحقاً\n",
        "    j_theta_1 = 0\n",
        "    j_theta_0 = 0\n",
        "\n",
        "     # حلقة دورانية على عينات التدريب\n",
        "    for i in range(m):        \n",
        "        #حساب القيمة المتوقعة لكل عينة \n",
        "        h = theta_1 * x[i] + theta_0\n",
        "        # حساب الانحدار التدريجي لكل عينة وفق العامل الأول\n",
        "        j_theta_1_i = (h - y[i]) * x[i] \n",
        "        # حساب الانحدار التدريجي لكل عينة وفق العامل الثاني \n",
        "        j_theta_0_i = h - y[i]\n",
        "        # تحديث قيمة الانحدار التدريجي\n",
        "        j_theta_0 += j_theta_0_i\n",
        "        j_theta_1 += j_theta_1_i\n",
        "    # تقسيم الانحدار التدريجي على عدد عينات التدريب \n",
        "    j_theta_1 = j_theta_1 / m\n",
        "    j_theta_0 = j_theta_0 / m\n",
        "    return j_theta_1, j_theta_0"
      ],
      "metadata": {
        "id": "tBM3oGPfxQuH"
      },
      "execution_count": null,
      "outputs": []
    },
    {
      "cell_type": "markdown",
      "source": [
        "## Batch Gradient Descent"
      ],
      "metadata": {
        "id": "e6a3wLNE63kk"
      }
    },
    {
      "cell_type": "code",
      "source": [
        "def gradient_descent(x, y, theta_1_in, theta_0_in, cost_function, gradient_function, alpha, num_iters): \n",
        "    # عدد عينات التدريب\n",
        "    m = len(x)\n",
        "    # مصفوفة تخزين بعد كل دورة تدريب\n",
        "    J_hist = []\n",
        "    theta_1_hist = []\n",
        "    theta_1 = copy.deepcopy(theta_1_in)  \n",
        "    theta_0 = theta_0_in\n",
        "    for i in range(num_iters):\n",
        "        # حساب الانحدار التدريجي\n",
        "        j_theta_1, j_theta_0 = gradient_function(x, y, theta_1, theta_0 )  \n",
        "        # تحديث العوامل\n",
        "        theta_1 = theta_1 - alpha * j_theta_1               \n",
        "        theta_0 = theta_0 - alpha * j_theta_0               \n",
        "        # تخزين قيمة التكلفة بعد كل دورة\n",
        "\n",
        "    return theta_1, theta_0"
      ],
      "metadata": {
        "id": "XHSgvVNoxzX7"
      },
      "execution_count": null,
      "outputs": []
    },
    {
      "cell_type": "code",
      "source": [
        "# تحديد قيم ابتدائية للعوامل\n",
        "initial_theta_1 = 0.\n",
        "initial_theta_0 = 0.\n",
        "iterations = 1500\n",
        "alpha = 0.01\n",
        "\n",
        "theta_1,theta_0 = gradient_descent(x_train ,y_train, initial_theta_1, initial_theta_0, \n",
        "                     cost_func, gradient, alpha, iterations)\n",
        "print(\"theta_1,theta_0 found by gradient descent:\", theta_1, theta_0)"
      ],
      "metadata": {
        "colab": {
          "base_uri": "https://localhost:8080/"
        },
        "id": "wBCxqp0-x40w",
        "outputId": "cef5f8b5-cd3f-4095-d618-240e35ce8896"
      },
      "execution_count": null,
      "outputs": [
        {
          "output_type": "stream",
          "name": "stdout",
          "text": [
            "theta_1,theta_0 found by gradient descent: 9597.791052916133 24796.02161349117\n"
          ]
        }
      ]
    },
    {
      "cell_type": "code",
      "source": [
        "m = x_train.shape[0]\n",
        "predicted = np.zeros(m)\n",
        "\n",
        "for i in range(m):\n",
        "    predicted[i] = theta_1 * x_train[i] + theta_0"
      ],
      "metadata": {
        "id": "vsweH5Kqx8Ul"
      },
      "execution_count": null,
      "outputs": []
    },
    {
      "cell_type": "code",
      "source": [
        "#رسم خط الانحدار الخطي ضمن مخطط انتشار للبيانات\n",
        "plt.plot(x_train , predicted,c=\"b\") \n",
        "plt.scatter(x_train, y_train, marker='x', c='r') \n",
        "\n",
        "# تحدبد العنوان\n",
        "plt.title(\"years of experience vs salary\")\n",
        "# تحديد عنوان للمحور العمودي\n",
        "plt.ylabel('salary')\n",
        "# تحديد عنوان للمحور الأفقي\n",
        "plt.xlabel('years of experience')\n",
        "plt.show()"
      ],
      "metadata": {
        "colab": {
          "base_uri": "https://localhost:8080/",
          "height": 295
        },
        "id": "j84OUk6Yx_En",
        "outputId": "9c00693c-6330-44f4-851d-4b6b12e5f153"
      },
      "execution_count": null,
      "outputs": [
        {
          "output_type": "display_data",
          "data": {
            "text/plain": [
              "<Figure size 432x288 with 1 Axes>"
            ],
            "image/png": "[encoded data removed]"
          },
          "metadata": {
            "needs_background": "light"
          }
        }
      ]
    },
    {
      "cell_type": "code",
      "source": [],
      "metadata": {
        "id": "or5QgZG_veMx"
      },
      "execution_count": null,
      "outputs": []
    }
  ]
}